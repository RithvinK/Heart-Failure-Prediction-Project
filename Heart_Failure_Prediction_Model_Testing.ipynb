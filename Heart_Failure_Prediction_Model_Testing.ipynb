{
  "nbformat": 4,
  "nbformat_minor": 0,
  "metadata": {
    "colab": {
      "provenance": []
    },
    "kernelspec": {
      "name": "python3",
      "display_name": "Python 3"
    },
    "language_info": {
      "name": "python"
    }
  },
  "cells": [
    {
      "cell_type": "markdown",
      "source": [
        "# Machine Learning Methods for Predicting Heart Failure\n",
        "## Rithvin Koneru\n",
        "Data from https://www.kaggle.com/datasets/andrewmvd/heart-failure-clinical-data?resource=download"
      ],
      "metadata": {
        "id": "bAg3gLd8talE"
      }
    },
    {
      "cell_type": "code",
      "execution_count": null,
      "metadata": {
        "id": "VWUECYPnllIA"
      },
      "outputs": [],
      "source": [
        "import numpy as np\n",
        "import pandas as pd\n",
        "import matplotlib.pyplot as plt"
      ]
    },
    {
      "cell_type": "markdown",
      "source": [
        "# Data Collection\n",
        "In order to train a model, first loaded in the requisite CSVs here."
      ],
      "metadata": {
        "id": "smniVY6_6aO8"
      }
    },
    {
      "cell_type": "code",
      "source": [
        "### DO NOT MODIFY THIS CELL ###\n",
        "!git clone https://github.com/BigThinkAI/spring2022-project-data.git\n",
        "!rm -rf ./spring2022-project-data/heart_failure_test.csv\n",
        "\n",
        "DATA_CSV = '/content/spring2022-project-data/heart_failure_train.csv'"
      ],
      "metadata": {
        "colab": {
          "base_uri": "https://localhost:8080/"
        },
        "id": "8E1DNf8Ws4Ol",
        "outputId": "d91ae9ac-b417-4fda-cea9-67a4aa349bc1"
      },
      "execution_count": null,
      "outputs": [
        {
          "output_type": "stream",
          "name": "stdout",
          "text": [
            "Cloning into 'spring2022-project-data'...\n",
            "remote: Enumerating objects: 18, done.\u001b[K\n",
            "remote: Counting objects: 100% (18/18), done.\u001b[K\n",
            "remote: Compressing objects: 100% (14/14), done.\u001b[K\n",
            "remote: Total 18 (delta 2), reused 0 (delta 0), pack-reused 0\u001b[K\n",
            "Receiving objects: 100% (18/18), 12.33 KiB | 12.33 MiB/s, done.\n",
            "Resolving deltas: 100% (2/2), done.\n"
          ]
        }
      ]
    },
    {
      "cell_type": "code",
      "source": [
        "# Your code here\n",
        "df = pd.read_csv(DATA_CSV)\n",
        "df.columns"
      ],
      "metadata": {
        "id": "U7ubeqQftCmC",
        "colab": {
          "base_uri": "https://localhost:8080/"
        },
        "outputId": "6533afcd-d64f-4a5e-8e4a-9b3c1663d0ba"
      },
      "execution_count": null,
      "outputs": [
        {
          "output_type": "execute_result",
          "data": {
            "text/plain": [
              "Index(['Unnamed: 0', 'age', 'anaemia', 'creatinine_phosphokinase', 'diabetes',\n",
              "       'ejection_fraction', 'high_blood_pressure', 'platelets',\n",
              "       'serum_creatinine', 'serum_sodium', 'sex', 'smoking', 'time',\n",
              "       'DEATH_EVENT'],\n",
              "      dtype='object')"
            ]
          },
          "metadata": {},
          "execution_count": 4
        }
      ]
    },
    {
      "cell_type": "markdown",
      "source": [
        "# Data Cleaning\n",
        "\n",
        "Fixed formatting for age and converted 0 and 1 to Male and Female for Sex column.\n"
      ],
      "metadata": {
        "id": "vlfTd1Kq8TW6"
      }
    },
    {
      "cell_type": "code",
      "source": [
        "df['age'] = df['age'].apply(lambda x : int(x))\n",
        "\n",
        "df['sex'] = df.sex.apply(lambda x: \"M\" if x == 1 else \"F\")\n",
        "df.head(10)"
      ],
      "metadata": {
        "colab": {
          "base_uri": "https://localhost:8080/",
          "height": 400
        },
        "id": "mVJ1r3688oru",
        "outputId": "475ec4fe-0fa5-4d72-9336-c36191eeb614"
      },
      "execution_count": null,
      "outputs": [
        {
          "output_type": "execute_result",
          "data": {
            "text/plain": [
              "   Unnamed: 0  age  anaemia  creatinine_phosphokinase  diabetes  \\\n",
              "0           0   85        0                       212         0   \n",
              "1           1   52        0                      3966         0   \n",
              "2           2   45        0                       308         1   \n",
              "3           3   55        0                        66         0   \n",
              "4           4   60        0                      1896         1   \n",
              "5           5   60        1                       104         1   \n",
              "6           6   60        0                        96         1   \n",
              "7           7   50        1                       167         1   \n",
              "8           8   60        1                       260         1   \n",
              "9           9   55        0                       748         0   \n",
              "\n",
              "   ejection_fraction  high_blood_pressure  platelets  serum_creatinine  \\\n",
              "0                 38                    0   186000.0              0.90   \n",
              "1                 40                    0   325000.0              0.90   \n",
              "2                 60                    1   377000.0              1.00   \n",
              "3                 40                    0   203000.0              1.00   \n",
              "4                 25                    0   365000.0              2.10   \n",
              "5                 30                    0   389000.0              1.50   \n",
              "6                 38                    0   228000.0              0.75   \n",
              "7                 45                    0   362000.0              1.00   \n",
              "8                 38                    0   255000.0              2.20   \n",
              "9                 45                    0   263000.0              1.30   \n",
              "\n",
              "   serum_sodium sex  smoking  time  DEATH_EVENT  \n",
              "0           136   M        0   187            0  \n",
              "1           140   M        1   146            0  \n",
              "2           136   M        0   186            0  \n",
              "3           138   M        0   233            0  \n",
              "4           144   F        0   172            1  \n",
              "5           136   M        0   171            1  \n",
              "6           140   F        0    95            0  \n",
              "7           136   F        0   187            0  \n",
              "8           132   F        1    45            1  \n",
              "9           137   M        0    88            0  "
            ],
            "text/html": [
              "\n",
              "  <div id=\"df-8e46f4d7-b82a-418b-bb8d-c7049773c558\" class=\"colab-df-container\">\n",
              "    <div>\n",
              "<style scoped>\n",
              "    .dataframe tbody tr th:only-of-type {\n",
              "        vertical-align: middle;\n",
              "    }\n",
              "\n",
              "    .dataframe tbody tr th {\n",
              "        vertical-align: top;\n",
              "    }\n",
              "\n",
              "    .dataframe thead th {\n",
              "        text-align: right;\n",
              "    }\n",
              "</style>\n",
              "<table border=\"1\" class=\"dataframe\">\n",
              "  <thead>\n",
              "    <tr style=\"text-align: right;\">\n",
              "      <th></th>\n",
              "      <th>Unnamed: 0</th>\n",
              "      <th>age</th>\n",
              "      <th>anaemia</th>\n",
              "      <th>creatinine_phosphokinase</th>\n",
              "      <th>diabetes</th>\n",
              "      <th>ejection_fraction</th>\n",
              "      <th>high_blood_pressure</th>\n",
              "      <th>platelets</th>\n",
              "      <th>serum_creatinine</th>\n",
              "      <th>serum_sodium</th>\n",
              "      <th>sex</th>\n",
              "      <th>smoking</th>\n",
              "      <th>time</th>\n",
              "      <th>DEATH_EVENT</th>\n",
              "    </tr>\n",
              "  </thead>\n",
              "  <tbody>\n",
              "    <tr>\n",
              "      <th>0</th>\n",
              "      <td>0</td>\n",
              "      <td>85</td>\n",
              "      <td>0</td>\n",
              "      <td>212</td>\n",
              "      <td>0</td>\n",
              "      <td>38</td>\n",
              "      <td>0</td>\n",
              "      <td>186000.0</td>\n",
              "      <td>0.90</td>\n",
              "      <td>136</td>\n",
              "      <td>M</td>\n",
              "      <td>0</td>\n",
              "      <td>187</td>\n",
              "      <td>0</td>\n",
              "    </tr>\n",
              "    <tr>\n",
              "      <th>1</th>\n",
              "      <td>1</td>\n",
              "      <td>52</td>\n",
              "      <td>0</td>\n",
              "      <td>3966</td>\n",
              "      <td>0</td>\n",
              "      <td>40</td>\n",
              "      <td>0</td>\n",
              "      <td>325000.0</td>\n",
              "      <td>0.90</td>\n",
              "      <td>140</td>\n",
              "      <td>M</td>\n",
              "      <td>1</td>\n",
              "      <td>146</td>\n",
              "      <td>0</td>\n",
              "    </tr>\n",
              "    <tr>\n",
              "      <th>2</th>\n",
              "      <td>2</td>\n",
              "      <td>45</td>\n",
              "      <td>0</td>\n",
              "      <td>308</td>\n",
              "      <td>1</td>\n",
              "      <td>60</td>\n",
              "      <td>1</td>\n",
              "      <td>377000.0</td>\n",
              "      <td>1.00</td>\n",
              "      <td>136</td>\n",
              "      <td>M</td>\n",
              "      <td>0</td>\n",
              "      <td>186</td>\n",
              "      <td>0</td>\n",
              "    </tr>\n",
              "    <tr>\n",
              "      <th>3</th>\n",
              "      <td>3</td>\n",
              "      <td>55</td>\n",
              "      <td>0</td>\n",
              "      <td>66</td>\n",
              "      <td>0</td>\n",
              "      <td>40</td>\n",
              "      <td>0</td>\n",
              "      <td>203000.0</td>\n",
              "      <td>1.00</td>\n",
              "      <td>138</td>\n",
              "      <td>M</td>\n",
              "      <td>0</td>\n",
              "      <td>233</td>\n",
              "      <td>0</td>\n",
              "    </tr>\n",
              "    <tr>\n",
              "      <th>4</th>\n",
              "      <td>4</td>\n",
              "      <td>60</td>\n",
              "      <td>0</td>\n",
              "      <td>1896</td>\n",
              "      <td>1</td>\n",
              "      <td>25</td>\n",
              "      <td>0</td>\n",
              "      <td>365000.0</td>\n",
              "      <td>2.10</td>\n",
              "      <td>144</td>\n",
              "      <td>F</td>\n",
              "      <td>0</td>\n",
              "      <td>172</td>\n",
              "      <td>1</td>\n",
              "    </tr>\n",
              "    <tr>\n",
              "      <th>5</th>\n",
              "      <td>5</td>\n",
              "      <td>60</td>\n",
              "      <td>1</td>\n",
              "      <td>104</td>\n",
              "      <td>1</td>\n",
              "      <td>30</td>\n",
              "      <td>0</td>\n",
              "      <td>389000.0</td>\n",
              "      <td>1.50</td>\n",
              "      <td>136</td>\n",
              "      <td>M</td>\n",
              "      <td>0</td>\n",
              "      <td>171</td>\n",
              "      <td>1</td>\n",
              "    </tr>\n",
              "    <tr>\n",
              "      <th>6</th>\n",
              "      <td>6</td>\n",
              "      <td>60</td>\n",
              "      <td>0</td>\n",
              "      <td>96</td>\n",
              "      <td>1</td>\n",
              "      <td>38</td>\n",
              "      <td>0</td>\n",
              "      <td>228000.0</td>\n",
              "      <td>0.75</td>\n",
              "      <td>140</td>\n",
              "      <td>F</td>\n",
              "      <td>0</td>\n",
              "      <td>95</td>\n",
              "      <td>0</td>\n",
              "    </tr>\n",
              "    <tr>\n",
              "      <th>7</th>\n",
              "      <td>7</td>\n",
              "      <td>50</td>\n",
              "      <td>1</td>\n",
              "      <td>167</td>\n",
              "      <td>1</td>\n",
              "      <td>45</td>\n",
              "      <td>0</td>\n",
              "      <td>362000.0</td>\n",
              "      <td>1.00</td>\n",
              "      <td>136</td>\n",
              "      <td>F</td>\n",
              "      <td>0</td>\n",
              "      <td>187</td>\n",
              "      <td>0</td>\n",
              "    </tr>\n",
              "    <tr>\n",
              "      <th>8</th>\n",
              "      <td>8</td>\n",
              "      <td>60</td>\n",
              "      <td>1</td>\n",
              "      <td>260</td>\n",
              "      <td>1</td>\n",
              "      <td>38</td>\n",
              "      <td>0</td>\n",
              "      <td>255000.0</td>\n",
              "      <td>2.20</td>\n",
              "      <td>132</td>\n",
              "      <td>F</td>\n",
              "      <td>1</td>\n",
              "      <td>45</td>\n",
              "      <td>1</td>\n",
              "    </tr>\n",
              "    <tr>\n",
              "      <th>9</th>\n",
              "      <td>9</td>\n",
              "      <td>55</td>\n",
              "      <td>0</td>\n",
              "      <td>748</td>\n",
              "      <td>0</td>\n",
              "      <td>45</td>\n",
              "      <td>0</td>\n",
              "      <td>263000.0</td>\n",
              "      <td>1.30</td>\n",
              "      <td>137</td>\n",
              "      <td>M</td>\n",
              "      <td>0</td>\n",
              "      <td>88</td>\n",
              "      <td>0</td>\n",
              "    </tr>\n",
              "  </tbody>\n",
              "</table>\n",
              "</div>\n",
              "    <div class=\"colab-df-buttons\">\n",
              "\n",
              "  <div class=\"colab-df-container\">\n",
              "    <button class=\"colab-df-convert\" onclick=\"convertToInteractive('df-8e46f4d7-b82a-418b-bb8d-c7049773c558')\"\n",
              "            title=\"Convert this dataframe to an interactive table.\"\n",
              "            style=\"display:none;\">\n",
              "\n",
              "  <svg xmlns=\"http://www.w3.org/2000/svg\" height=\"24px\" viewBox=\"0 -960 960 960\">\n",
              "    <path d=\"M120-120v-720h720v720H120Zm60-500h600v-160H180v160Zm220 220h160v-160H400v160Zm0 220h160v-160H400v160ZM180-400h160v-160H180v160Zm440 0h160v-160H620v160ZM180-180h160v-160H180v160Zm440 0h160v-160H620v160Z\"/>\n",
              "  </svg>\n",
              "    </button>\n",
              "\n",
              "  <style>\n",
              "    .colab-df-container {\n",
              "      display:flex;\n",
              "      gap: 12px;\n",
              "    }\n",
              "\n",
              "    .colab-df-convert {\n",
              "      background-color: #E8F0FE;\n",
              "      border: none;\n",
              "      border-radius: 50%;\n",
              "      cursor: pointer;\n",
              "      display: none;\n",
              "      fill: #1967D2;\n",
              "      height: 32px;\n",
              "      padding: 0 0 0 0;\n",
              "      width: 32px;\n",
              "    }\n",
              "\n",
              "    .colab-df-convert:hover {\n",
              "      background-color: #E2EBFA;\n",
              "      box-shadow: 0px 1px 2px rgba(60, 64, 67, 0.3), 0px 1px 3px 1px rgba(60, 64, 67, 0.15);\n",
              "      fill: #174EA6;\n",
              "    }\n",
              "\n",
              "    .colab-df-buttons div {\n",
              "      margin-bottom: 4px;\n",
              "    }\n",
              "\n",
              "    [theme=dark] .colab-df-convert {\n",
              "      background-color: #3B4455;\n",
              "      fill: #D2E3FC;\n",
              "    }\n",
              "\n",
              "    [theme=dark] .colab-df-convert:hover {\n",
              "      background-color: #434B5C;\n",
              "      box-shadow: 0px 1px 3px 1px rgba(0, 0, 0, 0.15);\n",
              "      filter: drop-shadow(0px 1px 2px rgba(0, 0, 0, 0.3));\n",
              "      fill: #FFFFFF;\n",
              "    }\n",
              "  </style>\n",
              "\n",
              "    <script>\n",
              "      const buttonEl =\n",
              "        document.querySelector('#df-8e46f4d7-b82a-418b-bb8d-c7049773c558 button.colab-df-convert');\n",
              "      buttonEl.style.display =\n",
              "        google.colab.kernel.accessAllowed ? 'block' : 'none';\n",
              "\n",
              "      async function convertToInteractive(key) {\n",
              "        const element = document.querySelector('#df-8e46f4d7-b82a-418b-bb8d-c7049773c558');\n",
              "        const dataTable =\n",
              "          await google.colab.kernel.invokeFunction('convertToInteractive',\n",
              "                                                    [key], {});\n",
              "        if (!dataTable) return;\n",
              "\n",
              "        const docLinkHtml = 'Like what you see? Visit the ' +\n",
              "          '<a target=\"_blank\" href=https://colab.research.google.com/notebooks/data_table.ipynb>data table notebook</a>'\n",
              "          + ' to learn more about interactive tables.';\n",
              "        element.innerHTML = '';\n",
              "        dataTable['output_type'] = 'display_data';\n",
              "        await google.colab.output.renderOutput(dataTable, element);\n",
              "        const docLink = document.createElement('div');\n",
              "        docLink.innerHTML = docLinkHtml;\n",
              "        element.appendChild(docLink);\n",
              "      }\n",
              "    </script>\n",
              "  </div>\n",
              "\n",
              "\n",
              "<div id=\"df-7835d718-c6da-4abd-9e62-afab17e5ce05\">\n",
              "  <button class=\"colab-df-quickchart\" onclick=\"quickchart('df-7835d718-c6da-4abd-9e62-afab17e5ce05')\"\n",
              "            title=\"Suggest charts.\"\n",
              "            style=\"display:none;\">\n",
              "\n",
              "<svg xmlns=\"http://www.w3.org/2000/svg\" height=\"24px\"viewBox=\"0 0 24 24\"\n",
              "     width=\"24px\">\n",
              "    <g>\n",
              "        <path d=\"M19 3H5c-1.1 0-2 .9-2 2v14c0 1.1.9 2 2 2h14c1.1 0 2-.9 2-2V5c0-1.1-.9-2-2-2zM9 17H7v-7h2v7zm4 0h-2V7h2v10zm4 0h-2v-4h2v4z\"/>\n",
              "    </g>\n",
              "</svg>\n",
              "  </button>\n",
              "\n",
              "<style>\n",
              "  .colab-df-quickchart {\n",
              "      --bg-color: #E8F0FE;\n",
              "      --fill-color: #1967D2;\n",
              "      --hover-bg-color: #E2EBFA;\n",
              "      --hover-fill-color: #174EA6;\n",
              "      --disabled-fill-color: #AAA;\n",
              "      --disabled-bg-color: #DDD;\n",
              "  }\n",
              "\n",
              "  [theme=dark] .colab-df-quickchart {\n",
              "      --bg-color: #3B4455;\n",
              "      --fill-color: #D2E3FC;\n",
              "      --hover-bg-color: #434B5C;\n",
              "      --hover-fill-color: #FFFFFF;\n",
              "      --disabled-bg-color: #3B4455;\n",
              "      --disabled-fill-color: #666;\n",
              "  }\n",
              "\n",
              "  .colab-df-quickchart {\n",
              "    background-color: var(--bg-color);\n",
              "    border: none;\n",
              "    border-radius: 50%;\n",
              "    cursor: pointer;\n",
              "    display: none;\n",
              "    fill: var(--fill-color);\n",
              "    height: 32px;\n",
              "    padding: 0;\n",
              "    width: 32px;\n",
              "  }\n",
              "\n",
              "  .colab-df-quickchart:hover {\n",
              "    background-color: var(--hover-bg-color);\n",
              "    box-shadow: 0 1px 2px rgba(60, 64, 67, 0.3), 0 1px 3px 1px rgba(60, 64, 67, 0.15);\n",
              "    fill: var(--button-hover-fill-color);\n",
              "  }\n",
              "\n",
              "  .colab-df-quickchart-complete:disabled,\n",
              "  .colab-df-quickchart-complete:disabled:hover {\n",
              "    background-color: var(--disabled-bg-color);\n",
              "    fill: var(--disabled-fill-color);\n",
              "    box-shadow: none;\n",
              "  }\n",
              "\n",
              "  .colab-df-spinner {\n",
              "    border: 2px solid var(--fill-color);\n",
              "    border-color: transparent;\n",
              "    border-bottom-color: var(--fill-color);\n",
              "    animation:\n",
              "      spin 1s steps(1) infinite;\n",
              "  }\n",
              "\n",
              "  @keyframes spin {\n",
              "    0% {\n",
              "      border-color: transparent;\n",
              "      border-bottom-color: var(--fill-color);\n",
              "      border-left-color: var(--fill-color);\n",
              "    }\n",
              "    20% {\n",
              "      border-color: transparent;\n",
              "      border-left-color: var(--fill-color);\n",
              "      border-top-color: var(--fill-color);\n",
              "    }\n",
              "    30% {\n",
              "      border-color: transparent;\n",
              "      border-left-color: var(--fill-color);\n",
              "      border-top-color: var(--fill-color);\n",
              "      border-right-color: var(--fill-color);\n",
              "    }\n",
              "    40% {\n",
              "      border-color: transparent;\n",
              "      border-right-color: var(--fill-color);\n",
              "      border-top-color: var(--fill-color);\n",
              "    }\n",
              "    60% {\n",
              "      border-color: transparent;\n",
              "      border-right-color: var(--fill-color);\n",
              "    }\n",
              "    80% {\n",
              "      border-color: transparent;\n",
              "      border-right-color: var(--fill-color);\n",
              "      border-bottom-color: var(--fill-color);\n",
              "    }\n",
              "    90% {\n",
              "      border-color: transparent;\n",
              "      border-bottom-color: var(--fill-color);\n",
              "    }\n",
              "  }\n",
              "</style>\n",
              "\n",
              "  <script>\n",
              "    async function quickchart(key) {\n",
              "      const quickchartButtonEl =\n",
              "        document.querySelector('#' + key + ' button');\n",
              "      quickchartButtonEl.disabled = true;  // To prevent multiple clicks.\n",
              "      quickchartButtonEl.classList.add('colab-df-spinner');\n",
              "      try {\n",
              "        const charts = await google.colab.kernel.invokeFunction(\n",
              "            'suggestCharts', [key], {});\n",
              "      } catch (error) {\n",
              "        console.error('Error during call to suggestCharts:', error);\n",
              "      }\n",
              "      quickchartButtonEl.classList.remove('colab-df-spinner');\n",
              "      quickchartButtonEl.classList.add('colab-df-quickchart-complete');\n",
              "    }\n",
              "    (() => {\n",
              "      let quickchartButtonEl =\n",
              "        document.querySelector('#df-7835d718-c6da-4abd-9e62-afab17e5ce05 button');\n",
              "      quickchartButtonEl.style.display =\n",
              "        google.colab.kernel.accessAllowed ? 'block' : 'none';\n",
              "    })();\n",
              "  </script>\n",
              "</div>\n",
              "    </div>\n",
              "  </div>\n"
            ]
          },
          "metadata": {},
          "execution_count": 5
        }
      ]
    },
    {
      "cell_type": "markdown",
      "source": [
        "# Feature Engineering\n",
        "General data explorations"
      ],
      "metadata": {
        "id": "wN7SmmcE6Epa"
      }
    },
    {
      "cell_type": "markdown",
      "source": [
        "General Stats"
      ],
      "metadata": {
        "id": "UE5miOoURNMp"
      }
    },
    {
      "cell_type": "code",
      "source": [
        "df.columns"
      ],
      "metadata": {
        "colab": {
          "base_uri": "https://localhost:8080/"
        },
        "id": "j7CbcvT1Rice",
        "outputId": "a4fc8540-e2fa-408c-979f-de1e2ae56327"
      },
      "execution_count": null,
      "outputs": [
        {
          "output_type": "execute_result",
          "data": {
            "text/plain": [
              "Index(['Unnamed: 0', 'age', 'anaemia', 'creatinine_phosphokinase', 'diabetes',\n",
              "       'ejection_fraction', 'high_blood_pressure', 'platelets',\n",
              "       'serum_creatinine', 'serum_sodium', 'sex', 'smoking', 'time',\n",
              "       'DEATH_EVENT'],\n",
              "      dtype='object')"
            ]
          },
          "metadata": {},
          "execution_count": 6
        }
      ]
    },
    {
      "cell_type": "markdown",
      "source": [
        "# Spread of Ages"
      ],
      "metadata": {
        "id": "PIEar_SN9Kob"
      }
    },
    {
      "cell_type": "code",
      "source": [
        "df.age.hist()"
      ],
      "metadata": {
        "id": "d9cF-gH66TtP",
        "colab": {
          "base_uri": "https://localhost:8080/",
          "height": 448
        },
        "outputId": "003df9db-363c-4ee3-b1c4-b6610c35d5c0"
      },
      "execution_count": null,
      "outputs": [
        {
          "output_type": "execute_result",
          "data": {
            "text/plain": [
              "<Axes: >"
            ]
          },
          "metadata": {},
          "execution_count": 7
        },
        {
          "output_type": "display_data",
          "data": {
            "text/plain": [
              "<Figure size 640x480 with 1 Axes>"
            ],
            "image/png": "[encoded data removed]"
          },
          "metadata": {}
        }
      ]
    },
    {
      "cell_type": "markdown",
      "source": [
        "# Spread of times between checkups of patients"
      ],
      "metadata": {
        "id": "s3Vjx7tu9Rle"
      }
    },
    {
      "cell_type": "code",
      "source": [
        "df.boxplot(column = \"time\")"
      ],
      "metadata": {
        "colab": {
          "base_uri": "https://localhost:8080/",
          "height": 448
        },
        "id": "lBGdqP9JRyxU",
        "outputId": "c5ef83a6-e7bf-4c7b-c546-852aa05ea262"
      },
      "execution_count": null,
      "outputs": [
        {
          "output_type": "execute_result",
          "data": {
            "text/plain": [
              "<Axes: >"
            ]
          },
          "metadata": {},
          "execution_count": 8
        },
        {
          "output_type": "display_data",
          "data": {
            "text/plain": [
              "<Figure size 640x480 with 1 Axes>"
            ],
            "image/png": "[encoded data removed]"
          },
          "metadata": {}
        }
      ]
    },
    {
      "cell_type": "markdown",
      "source": [
        "# Model Selection\n",
        "Showcases variability of each patient data factor and inputs them into various models"
      ],
      "metadata": {
        "id": "03tiPE_F6u_a"
      }
    },
    {
      "cell_type": "code",
      "source": [
        "\n",
        "df_model = df[['age', 'anaemia', 'creatinine_phosphokinase', 'diabetes',\n",
        "       'ejection_fraction', 'high_blood_pressure', 'platelets',\n",
        "       'serum_creatinine', 'serum_sodium', 'sex', 'smoking', 'time',\n",
        "       'DEATH_EVENT']]\n",
        "df_dum = pd.get_dummies(df_model) #dummy data with categories\n",
        "\n",
        "#training model data\n",
        "from sklearn.model_selection import train_test_split\n",
        "X = df_dum.drop('DEATH_EVENT', axis =1)\n",
        "y = df_dum.DEATH_EVENT.values\n",
        "X_train, X_test, y_train, y_test = train_test_split(X, y, test_size=0.2, random_state=42)\n",
        "\n",
        "#model simulation 1 - linear regression model\n",
        "import statsmodels.api as sm\n",
        "X_sm = X = sm.add_constant(X)\n",
        "model = sm.OLS(y,X_sm)\n",
        "model.fit().summary()"
      ],
      "metadata": {
        "id": "7G4LduUU6462",
        "colab": {
          "base_uri": "https://localhost:8080/",
          "height": 743
        },
        "outputId": "cc576f48-962c-4713-946d-913268d781ba"
      },
      "execution_count": null,
      "outputs": [
        {
          "output_type": "execute_result",
          "data": {
            "text/plain": [
              "<class 'statsmodels.iolib.summary.Summary'>\n",
              "\"\"\"\n",
              "                            OLS Regression Results                            \n",
              "==============================================================================\n",
              "Dep. Variable:                      y   R-squared:                       0.423\n",
              "Model:                            OLS   Adj. R-squared:                  0.395\n",
              "Method:                 Least Squares   F-statistic:                     15.02\n",
              "Date:                Mon, 18 Sep 2023   Prob (F-statistic):           1.65e-23\n",
              "Time:                        06:20:22   Log-Likelihood:                -92.571\n",
              "No. Observations:                 259   AIC:                             211.1\n",
              "Df Residuals:                     246   BIC:                             257.4\n",
              "Df Model:                          12                                         \n",
              "Covariance Type:            nonrobust                                         \n",
              "============================================================================================\n",
              "                               coef    std err          t      P>|t|      [0.025      0.975]\n",
              "--------------------------------------------------------------------------------------------\n",
              "const                        0.8409      0.504      1.669      0.096      -0.151       1.833\n",
              "age                          0.0059      0.002      2.991      0.003       0.002       0.010\n",
              "anaemia                     -0.0196      0.047     -0.420      0.675      -0.111       0.072\n",
              "creatinine_phosphokinase  2.318e-05   2.48e-05      0.936      0.350   -2.56e-05    7.19e-05\n",
              "diabetes                     0.0349      0.046      0.759      0.448      -0.056       0.125\n",
              "ejection_fraction           -0.0103      0.002     -5.120      0.000      -0.014      -0.006\n",
              "high_blood_pressure         -0.0059      0.048     -0.122      0.903      -0.101       0.089\n",
              "platelets                 1.004e-08   2.28e-07      0.044      0.965   -4.39e-07    4.59e-07\n",
              "serum_creatinine             0.1037      0.024      4.325      0.000       0.056       0.151\n",
              "serum_sodium                -0.0049      0.005     -0.905      0.367      -0.016       0.006\n",
              "smoking                      0.0287      0.054      0.528      0.598      -0.078       0.136\n",
              "time                        -0.0029      0.000     -8.664      0.000      -0.004      -0.002\n",
              "sex_F                        0.4599      0.254      1.811      0.071      -0.040       0.960\n",
              "sex_M                        0.3809      0.253      1.508      0.133      -0.116       0.878\n",
              "==============================================================================\n",
              "Omnibus:                        7.753   Durbin-Watson:                   1.909\n",
              "Prob(Omnibus):                  0.021   Jarque-Bera (JB):                7.843\n",
              "Skew:                           0.397   Prob(JB):                       0.0198\n",
              "Kurtosis:                       2.691   Cond. No.                     3.34e+21\n",
              "==============================================================================\n",
              "\n",
              "Notes:\n",
              "[1] Standard Errors assume that the covariance matrix of the errors is correctly specified.\n",
              "[2] The smallest eigenvalue is 1.85e-30. This might indicate that there are\n",
              "strong multicollinearity problems or that the design matrix is singular.\n",
              "\"\"\""
            ],
            "text/html": [
              "<table class=\"simpletable\">\n",
              "<caption>OLS Regression Results</caption>\n",
              "<tr>\n",
              "  <th>Dep. Variable:</th>            <td>y</td>        <th>  R-squared:         </th> <td>   0.423</td>\n",
              "</tr>\n",
              "<tr>\n",
              "  <th>Model:</th>                   <td>OLS</td>       <th>  Adj. R-squared:    </th> <td>   0.395</td>\n",
              "</tr>\n",
              "<tr>\n",
              "  <th>Method:</th>             <td>Least Squares</td>  <th>  F-statistic:       </th> <td>   15.02</td>\n",
              "</tr>\n",
              "<tr>\n",
              "  <th>Date:</th>             <td>Mon, 18 Sep 2023</td> <th>  Prob (F-statistic):</th> <td>1.65e-23</td>\n",
              "</tr>\n",
              "<tr>\n",
              "  <th>Time:</th>                 <td>06:20:22</td>     <th>  Log-Likelihood:    </th> <td> -92.571</td>\n",
              "</tr>\n",
              "<tr>\n",
              "  <th>No. Observations:</th>      <td>   259</td>      <th>  AIC:               </th> <td>   211.1</td>\n",
              "</tr>\n",
              "<tr>\n",
              "  <th>Df Residuals:</th>          <td>   246</td>      <th>  BIC:               </th> <td>   257.4</td>\n",
              "</tr>\n",
              "<tr>\n",
              "  <th>Df Model:</th>              <td>    12</td>      <th>                     </th>     <td> </td>   \n",
              "</tr>\n",
              "<tr>\n",
              "  <th>Covariance Type:</th>      <td>nonrobust</td>    <th>                     </th>     <td> </td>   \n",
              "</tr>\n",
              "</table>\n",
              "<table class=\"simpletable\">\n",
              "<tr>\n",
              "              <td></td>                <th>coef</th>     <th>std err</th>      <th>t</th>      <th>P>|t|</th>  <th>[0.025</th>    <th>0.975]</th>  \n",
              "</tr>\n",
              "<tr>\n",
              "  <th>const</th>                    <td>    0.8409</td> <td>    0.504</td> <td>    1.669</td> <td> 0.096</td> <td>   -0.151</td> <td>    1.833</td>\n",
              "</tr>\n",
              "<tr>\n",
              "  <th>age</th>                      <td>    0.0059</td> <td>    0.002</td> <td>    2.991</td> <td> 0.003</td> <td>    0.002</td> <td>    0.010</td>\n",
              "</tr>\n",
              "<tr>\n",
              "  <th>anaemia</th>                  <td>   -0.0196</td> <td>    0.047</td> <td>   -0.420</td> <td> 0.675</td> <td>   -0.111</td> <td>    0.072</td>\n",
              "</tr>\n",
              "<tr>\n",
              "  <th>creatinine_phosphokinase</th> <td> 2.318e-05</td> <td> 2.48e-05</td> <td>    0.936</td> <td> 0.350</td> <td>-2.56e-05</td> <td> 7.19e-05</td>\n",
              "</tr>\n",
              "<tr>\n",
              "  <th>diabetes</th>                 <td>    0.0349</td> <td>    0.046</td> <td>    0.759</td> <td> 0.448</td> <td>   -0.056</td> <td>    0.125</td>\n",
              "</tr>\n",
              "<tr>\n",
              "  <th>ejection_fraction</th>        <td>   -0.0103</td> <td>    0.002</td> <td>   -5.120</td> <td> 0.000</td> <td>   -0.014</td> <td>   -0.006</td>\n",
              "</tr>\n",
              "<tr>\n",
              "  <th>high_blood_pressure</th>      <td>   -0.0059</td> <td>    0.048</td> <td>   -0.122</td> <td> 0.903</td> <td>   -0.101</td> <td>    0.089</td>\n",
              "</tr>\n",
              "<tr>\n",
              "  <th>platelets</th>                <td> 1.004e-08</td> <td> 2.28e-07</td> <td>    0.044</td> <td> 0.965</td> <td>-4.39e-07</td> <td> 4.59e-07</td>\n",
              "</tr>\n",
              "<tr>\n",
              "  <th>serum_creatinine</th>         <td>    0.1037</td> <td>    0.024</td> <td>    4.325</td> <td> 0.000</td> <td>    0.056</td> <td>    0.151</td>\n",
              "</tr>\n",
              "<tr>\n",
              "  <th>serum_sodium</th>             <td>   -0.0049</td> <td>    0.005</td> <td>   -0.905</td> <td> 0.367</td> <td>   -0.016</td> <td>    0.006</td>\n",
              "</tr>\n",
              "<tr>\n",
              "  <th>smoking</th>                  <td>    0.0287</td> <td>    0.054</td> <td>    0.528</td> <td> 0.598</td> <td>   -0.078</td> <td>    0.136</td>\n",
              "</tr>\n",
              "<tr>\n",
              "  <th>time</th>                     <td>   -0.0029</td> <td>    0.000</td> <td>   -8.664</td> <td> 0.000</td> <td>   -0.004</td> <td>   -0.002</td>\n",
              "</tr>\n",
              "<tr>\n",
              "  <th>sex_F</th>                    <td>    0.4599</td> <td>    0.254</td> <td>    1.811</td> <td> 0.071</td> <td>   -0.040</td> <td>    0.960</td>\n",
              "</tr>\n",
              "<tr>\n",
              "  <th>sex_M</th>                    <td>    0.3809</td> <td>    0.253</td> <td>    1.508</td> <td> 0.133</td> <td>   -0.116</td> <td>    0.878</td>\n",
              "</tr>\n",
              "</table>\n",
              "<table class=\"simpletable\">\n",
              "<tr>\n",
              "  <th>Omnibus:</th>       <td> 7.753</td> <th>  Durbin-Watson:     </th> <td>   1.909</td>\n",
              "</tr>\n",
              "<tr>\n",
              "  <th>Prob(Omnibus):</th> <td> 0.021</td> <th>  Jarque-Bera (JB):  </th> <td>   7.843</td>\n",
              "</tr>\n",
              "<tr>\n",
              "  <th>Skew:</th>          <td> 0.397</td> <th>  Prob(JB):          </th> <td>  0.0198</td>\n",
              "</tr>\n",
              "<tr>\n",
              "  <th>Kurtosis:</th>      <td> 2.691</td> <th>  Cond. No.          </th> <td>3.34e+21</td>\n",
              "</tr>\n",
              "</table><br/><br/>Notes:<br/>[1] Standard Errors assume that the covariance matrix of the errors is correctly specified.<br/>[2] The smallest eigenvalue is 1.85e-30. This might indicate that there are<br/>strong multicollinearity problems or that the design matrix is singular."
            ],
            "text/latex": "\\begin{center}\n\\begin{tabular}{lclc}\n\\toprule\n\\textbf{Dep. Variable:}            &        y         & \\textbf{  R-squared:         } &     0.423   \\\\\n\\textbf{Model:}                    &       OLS        & \\textbf{  Adj. R-squared:    } &     0.395   \\\\\n\\textbf{Method:}                   &  Least Squares   & \\textbf{  F-statistic:       } &     15.02   \\\\\n\\textbf{Date:}                     & Mon, 18 Sep 2023 & \\textbf{  Prob (F-statistic):} &  1.65e-23   \\\\\n\\textbf{Time:}                     &     06:20:22     & \\textbf{  Log-Likelihood:    } &   -92.571   \\\\\n\\textbf{No. Observations:}         &         259      & \\textbf{  AIC:               } &     211.1   \\\\\n\\textbf{Df Residuals:}             &         246      & \\textbf{  BIC:               } &     257.4   \\\\\n\\textbf{Df Model:}                 &          12      & \\textbf{                     } &             \\\\\n\\textbf{Covariance Type:}          &    nonrobust     & \\textbf{                     } &             \\\\\n\\bottomrule\n\\end{tabular}\n\\begin{tabular}{lcccccc}\n                                   & \\textbf{coef} & \\textbf{std err} & \\textbf{t} & \\textbf{P$> |$t$|$} & \\textbf{[0.025} & \\textbf{0.975]}  \\\\\n\\midrule\n\\textbf{const}                     &       0.8409  &        0.504     &     1.669  &         0.096        &       -0.151    &        1.833     \\\\\n\\textbf{age}                       &       0.0059  &        0.002     &     2.991  &         0.003        &        0.002    &        0.010     \\\\\n\\textbf{anaemia}                   &      -0.0196  &        0.047     &    -0.420  &         0.675        &       -0.111    &        0.072     \\\\\n\\textbf{creatinine\\_phosphokinase} &    2.318e-05  &     2.48e-05     &     0.936  &         0.350        &    -2.56e-05    &     7.19e-05     \\\\\n\\textbf{diabetes}                  &       0.0349  &        0.046     &     0.759  &         0.448        &       -0.056    &        0.125     \\\\\n\\textbf{ejection\\_fraction}        &      -0.0103  &        0.002     &    -5.120  &         0.000        &       -0.014    &       -0.006     \\\\\n\\textbf{high\\_blood\\_pressure}     &      -0.0059  &        0.048     &    -0.122  &         0.903        &       -0.101    &        0.089     \\\\\n\\textbf{platelets}                 &    1.004e-08  &     2.28e-07     &     0.044  &         0.965        &    -4.39e-07    &     4.59e-07     \\\\\n\\textbf{serum\\_creatinine}         &       0.1037  &        0.024     &     4.325  &         0.000        &        0.056    &        0.151     \\\\\n\\textbf{serum\\_sodium}             &      -0.0049  &        0.005     &    -0.905  &         0.367        &       -0.016    &        0.006     \\\\\n\\textbf{smoking}                   &       0.0287  &        0.054     &     0.528  &         0.598        &       -0.078    &        0.136     \\\\\n\\textbf{time}                      &      -0.0029  &        0.000     &    -8.664  &         0.000        &       -0.004    &       -0.002     \\\\\n\\textbf{sex\\_F}                    &       0.4599  &        0.254     &     1.811  &         0.071        &       -0.040    &        0.960     \\\\\n\\textbf{sex\\_M}                    &       0.3809  &        0.253     &     1.508  &         0.133        &       -0.116    &        0.878     \\\\\n\\bottomrule\n\\end{tabular}\n\\begin{tabular}{lclc}\n\\textbf{Omnibus:}       &  7.753 & \\textbf{  Durbin-Watson:     } &    1.909  \\\\\n\\textbf{Prob(Omnibus):} &  0.021 & \\textbf{  Jarque-Bera (JB):  } &    7.843  \\\\\n\\textbf{Skew:}          &  0.397 & \\textbf{  Prob(JB):          } &   0.0198  \\\\\n\\textbf{Kurtosis:}      &  2.691 & \\textbf{  Cond. No.          } & 3.34e+21  \\\\\n\\bottomrule\n\\end{tabular}\n%\\caption{OLS Regression Results}\n\\end{center}\n\nNotes: \\newline\n [1] Standard Errors assume that the covariance matrix of the errors is correctly specified. \\newline\n [2] The smallest eigenvalue is 1.85e-30. This might indicate that there are \\newline\n strong multicollinearity problems or that the design matrix is singular."
          },
          "metadata": {},
          "execution_count": 11
        }
      ]
    },
    {
      "cell_type": "code",
      "source": [
        "from sklearn.linear_model import LinearRegression, Lasso\n",
        "from sklearn.model_selection import cross_val_score # takes sample from model, runs model on sample, and checks if model is valid\n",
        "lm = LinearRegression()\n",
        "lm.fit(X_train, y_train)\n",
        "\n",
        "np.mean(cross_val_score(lm,X_train, y_train, scoring = 'neg_mean_absolute_error', cv=4)) # comparison shows that prediction is around 30 percent off when predicting death"
      ],
      "metadata": {
        "colab": {
          "base_uri": "https://localhost:8080/"
        },
        "id": "7NeS9TUMHZAb",
        "outputId": "72428a73-40be-4f7f-97d5-20852a5e586f"
      },
      "execution_count": null,
      "outputs": [
        {
          "output_type": "execute_result",
          "data": {
            "text/plain": [
              "-0.2921585708925933"
            ]
          },
          "metadata": {},
          "execution_count": 10
        }
      ]
    },
    {
      "cell_type": "markdown",
      "source": [
        "Running Lasso Regression and comparing when best/worst error term occurs"
      ],
      "metadata": {
        "id": "N1I-ysUIP601"
      }
    },
    {
      "cell_type": "code",
      "source": [
        "lm_vals = Lasso()\n",
        "np.mean(cross_val_score(lm_vals,X_train, y_train, scoring = 'neg_mean_absolute_error', cv=4)) # Using Lasso regression shows variability is correct, around 30 percent off\n",
        "lm_vals.fit(X_train, y_train)\n",
        "error = []\n",
        "alpha = []\n",
        "for i in range(1,100):\n",
        "  alpha.append(i/100)\n",
        "  lm_curr = Lasso(alpha=(i/100))\n",
        "  error.append(np.mean(cross_val_score(lm_curr,X_train, y_train, scoring = 'neg_mean_absolute_error', cv=4)))\n",
        "\n",
        "plt.plot(alpha,error) # plot shows that alpha = 0 has lowest mean absolute error across values from model"
      ],
      "metadata": {
        "colab": {
          "base_uri": "https://localhost:8080/",
          "height": 448
        },
        "id": "G0W3QsuWP19G",
        "outputId": "b4b877bc-471a-40bc-ff86-cb478301c80f"
      },
      "execution_count": null,
      "outputs": [
        {
          "output_type": "execute_result",
          "data": {
            "text/plain": [
              "[<matplotlib.lines.Line2D at 0x78f0ffcf9450>]"
            ]
          },
          "metadata": {},
          "execution_count": 12
        },
        {
          "output_type": "display_data",
          "data": {
            "text/plain": [
              "<Figure size 640x480 with 1 Axes>"
            ],
            "image/png": "[encoded data removed]"
          },
          "metadata": {}
        }
      ]
    },
    {
      "cell_type": "markdown",
      "source": [
        "Trying Random Forest Model on data to see if error values improve\n",
        "\n",
        "Result is that this model decreases error by a significant margin, by around 10-12% when comparing to previous model."
      ],
      "metadata": {
        "id": "gV-heTffThz0"
      }
    },
    {
      "cell_type": "code",
      "source": [
        "from sklearn.ensemble import RandomForestRegressor\n",
        "\n",
        "randf = RandomForestRegressor()\n",
        "randf.fit(X_train, y_train)\n",
        "np.mean(cross_val_score(randf,X_train, y_train, scoring = 'neg_mean_absolute_error', cv=4))"
      ],
      "metadata": {
        "colab": {
          "base_uri": "https://localhost:8080/"
        },
        "id": "JRR6n6F4ThPH",
        "outputId": "514a0c7f-8476-44a2-dd86-5dd92fdd0554"
      },
      "execution_count": null,
      "outputs": [
        {
          "output_type": "execute_result",
          "data": {
            "text/plain": [
              "-0.17647341628959276"
            ]
          },
          "metadata": {},
          "execution_count": 35
        }
      ]
    },
    {
      "cell_type": "markdown",
      "source": [
        "# Tuning data to find most efficient model"
      ],
      "metadata": {
        "id": "afW_w-75Ud4F"
      }
    },
    {
      "cell_type": "code",
      "source": [
        "\n",
        "tp_lm = lm.predict(X_test)\n",
        "tp_lml = lm_vals.predict(X_test)\n",
        "tp_rf = randf.predict(X_test)\n",
        "\n",
        "from sklearn.metrics import mean_absolute_error\n",
        "print(str(mean_absolute_error(y_test, tp_lm)) + \" - Linear\") # performance of Linear model\n",
        "\n",
        "print(str(mean_absolute_error(y_test, tp_lml)) + \" - Lasso\") # performance of Lasso\n",
        "\n",
        "print(str(mean_absolute_error(y_test, tp_rf)) + \" - Random Forest\") # performance of Random Forest"
      ],
      "metadata": {
        "colab": {
          "base_uri": "https://localhost:8080/"
        },
        "id": "Ze5CTHvdUkFu",
        "outputId": "a7eee3ef-cc20-4956-af86-e29b24f06cb1"
      },
      "execution_count": null,
      "outputs": [
        {
          "output_type": "stream",
          "name": "stdout",
          "text": [
            "0.3010211428314767 - Linear\n",
            "0.32097955757783947 - Lasso\n",
            "0.17384615384615382 - Random Forest\n"
          ]
        }
      ]
    },
    {
      "cell_type": "code",
      "source": [
        "import pickle\n",
        "\n",
        "def save_model(model, filename):\n",
        "  with open(f'{filename}.pkl', 'wb') as f:\n",
        "    pickle.dump(model, f)\n",
        "\n",
        "  print(f'Model saved to {filename}.pkl!')"
      ],
      "metadata": {
        "id": "VZdsojRHnvo3"
      },
      "execution_count": null,
      "outputs": []
    }
  ]
}